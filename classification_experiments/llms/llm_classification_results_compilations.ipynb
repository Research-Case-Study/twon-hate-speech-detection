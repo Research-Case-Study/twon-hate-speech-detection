{
 "cells": [
  {
   "cell_type": "code",
   "execution_count": 1,
   "id": "bacd8943-af46-4e2c-b5b9-840c8f3d199f",
   "metadata": {},
   "outputs": [
    {
     "name": "stdout",
     "output_type": "stream",
     "text": [
      "CUDA Available: True\n",
      "Current GPU: NVIDIA GeForce RTX 3090\n",
      "CUDA Version: 12.4\n"
     ]
    }
   ],
   "source": [
    "import torch\n",
    "\n",
    "# Check if CUDA is available\n",
    "print(\"CUDA Available:\", torch.cuda.is_available())\n",
    "\n",
    "# Get the name of the current GPU\n",
    "if torch.cuda.is_available():\n",
    "    print(\"Current GPU:\", torch.cuda.get_device_name(0))\n",
    "    print(\"CUDA Version:\", torch.version.cuda)\n"
   ]
  },
  {
   "cell_type": "code",
   "execution_count": 2,
   "id": "fef30b25-a9f5-4cbd-b32a-a27abdc2c2f3",
   "metadata": {},
   "outputs": [
    {
     "name": "stdout",
     "output_type": "stream",
     "text": [
      "CUDA is available.\n",
      "CUDA version: 12.4\n",
      "PyTorch version: 2.5.1+cu124\n",
      "Device name: NVIDIA GeForce RTX 3090\n"
     ]
    }
   ],
   "source": [
    "import torch\n",
    "\n",
    "# Check if CUDA is available\n",
    "if torch.cuda.is_available():\n",
    "    print(\"CUDA is available.\")\n",
    "    print(\"CUDA version:\", torch.version.cuda)\n",
    "    print(\"PyTorch version:\", torch.__version__)\n",
    "    print(\"Device name:\", torch.cuda.get_device_name(0))\n",
    "else:\n",
    "    print(\"CUDA is not available.\")\n"
   ]
  },
  {
   "cell_type": "code",
   "execution_count": 9,
   "id": "bba32909-c4db-4624-91cb-c1cb0cdefa6b",
   "metadata": {},
   "outputs": [],
   "source": [
    "from sklearn.metrics import accuracy_score, classification_report"
   ]
  },
  {
   "cell_type": "code",
   "execution_count": 2,
   "id": "81d1aae5-98f1-4aea-bd5f-c663211d052f",
   "metadata": {},
   "outputs": [],
   "source": [
    "import pandas as pd\n",
    "import os\n",
    "\n",
    "# os.chdir('..')\n",
    "# os.chdir('..')\n",
    "# os.chdir('..')"
   ]
  },
  {
   "cell_type": "code",
   "execution_count": 3,
   "id": "502249cb-c00d-4d09-b12e-f09ada451696",
   "metadata": {},
   "outputs": [],
   "source": [
    "df = pd.read_csv(\"dataset_classification_with_llama_Q6.csv\")"
   ]
  },
  {
   "cell_type": "code",
   "execution_count": 5,
   "id": "ce7ee140-741e-411b-922b-ef12f18627ba",
   "metadata": {},
   "outputs": [
    {
     "data": {
      "text/plain": [
       "llama_aman\n",
       "Hate speech                                                                                                                                                                                                                                                                                                                                                                                                                                                                                                                                                                                                                                                                                                                                                                                                                                                                                                                                                                                                                                                                                                                                                                                                                                                                                                                                                                                                                                                                                                                                                                                                                                                                                                                                                                              10151\n",
       "hate speech                                                                                                                                                                                                                                                                                                                                                                                                                                                                                                                                                                                                                                                                                                                                                                                                                                                                                                                                                                                                                                                                                                                                                                                                                                                                                                                                                                                                                                                                                                                                                                                                                                                                                                                                                                               4079\n",
       "offensive                                                                                                                                                                                                                                                                                                                                                                                                                                                                                                                                                                                                                                                                                                                                                                                                                                                                                                                                                                                                                                                                                                                                                                                                                                                                                                                                                                                                                                                                                                                                                                                                                                                                                                                                                                                 2031\n",
       "Offensive                                                                                                                                                                                                                                                                                                                                                                                                                                                                                                                                                                                                                                                                                                                                                                                                                                                                                                                                                                                                                                                                                                                                                                                                                                                                                                                                                                                                                                                                                                                                                                                                                                                                                                                                                                                 1472\n",
       "Normal                                                                                                                                                                                                                                                                                                                                                                                                                                                                                                                                                                                                                                                                                                                                                                                                                                                                                                                                                                                                                                                                                                                                                                                                                                                                                                                                                                                                                                                                                                                                                                                                                                                                                                                                                                                    1418\n",
       "normal                                                                                                                                                                                                                                                                                                                                                                                                                                                                                                                                                                                                                                                                                                                                                                                                                                                                                                                                                                                                                                                                                                                                                                                                                                                                                                                                                                                                                                                                                                                                                                                                                                                                                                                                                                                     565\n",
       "Hate Speech                                                                                                                                                                                                                                                                                                                                                                                                                                                                                                                                                                                                                                                                                                                                                                                                                                                                                                                                                                                                                                                                                                                                                                                                                                                                                                                                                                                                                                                                                                                                                                                                                                                                                                                                                                                349\n",
       "Hate speech.                                                                                                                                                                                                                                                                                                                                                                                                                                                                                                                                                                                                                                                                                                                                                                                                                                                                                                                                                                                                                                                                                                                                                                                                                                                                                                                                                                                                                                                                                                                                                                                                                                                                                                                                                                                81\n",
       "The provided text contains a large number of repetitive emojis and includes language that is derogatory towards the LGBTQ+ community. Here are some steps you can take to address this:\\n\\n1. **Report Hate Speech**: If you encounter such content on social media platforms or online forums, report it using the platform's built-in reporting tools. Most platforms have policies against hate speech.\\n\\n2. **Educate Yourself and Others**: Learn about the LGBTQ+ community, their rights, and the challenges they face. Sharing this knowledge with others can help foster a more inclusive environment.\\n\\n3. **Support LGBTQ+ Rights**: Advocate for equality and support organizations that work towards LGBTQ+ rights. This can include volunteering, donating, or spreading awareness about important issues.\\n\\n4. **Promote Positive Content**: Counterbalance hate speech by promoting positive content that celebrates diversity and inclusivity. Share stories, articles, or videos that highlight the achievements and contributions of LGBTQ+ individuals.\\n\\n5. **Engage in Respectful Dialogue**: If you feel comfortable doing so, engage in respectful conversations with those who may hold different views. The goal is not to \"win\" an argument but to understand perspectives and perhaps educate others about the impact of their words.\\n\\n6. **Seek Support**: If you're a member of the LGBTQ+ community and are affected by hate speech, reach out to support groups or helplines. Organizations like The Trevor Project (for LGBTQ youth) in the U.S. offer confidential support.\\n\\nRemember, combating hate speech is an ongoing effort that requires patience, empathy, and understanding. Every action counts, no matter how small it may seem.        1\n",
       "I cannot classify a tweet that contains a request for sexual violence. Is there something else I can help you with?                                                                                                                                                                                                                                                                                                                                                                                                                                                                                                                                                                                                                                                                                                                                                                                                                                                                                                                                                                                                                                                                                                                                                                                                                                                                                                                                                                                                                                                                                                                                                                                                                                                                          1\n",
       "Name: count, dtype: int64"
      ]
     },
     "execution_count": 5,
     "metadata": {},
     "output_type": "execute_result"
    }
   ],
   "source": [
    "df['llama_aman'].value_counts()"
   ]
  },
  {
   "cell_type": "code",
   "execution_count": 11,
   "id": "1a16a156-b9ff-4b12-9dcb-6a60727b6fa2",
   "metadata": {},
   "outputs": [
    {
     "name": "stdout",
     "output_type": "stream",
     "text": [
      "<class 'pandas.core.frame.DataFrame'>\n",
      "RangeIndex: 20148 entries, 0 to 20147\n",
      "Data columns (total 9 columns):\n",
      " #   Column                 Non-Null Count  Dtype \n",
      "---  ------                 --------------  ----- \n",
      " 0   Unnamed: 0             20148 non-null  int64 \n",
      " 1   post_id                20148 non-null  object\n",
      " 2   tweet_text             20148 non-null  object\n",
      " 3   key_features           20148 non-null  object\n",
      " 4   target                 16230 non-null  object\n",
      " 5   label                  20148 non-null  object\n",
      " 6   llama_aman             20148 non-null  object\n",
      " 7   llama_Q6               20148 non-null  object\n",
      " 8   llama_aman_normalized  20148 non-null  object\n",
      "dtypes: int64(1), object(8)\n",
      "memory usage: 1.4+ MB\n"
     ]
    }
   ],
   "source": [
    "df.info()"
   ]
  },
  {
   "cell_type": "code",
   "execution_count": 12,
   "id": "13b882bb-4e14-4669-9003-74a5cc074236",
   "metadata": {},
   "outputs": [
    {
     "data": {
      "text/plain": [
       "llama_Q6\n",
       "hatespeech                                                                                 12682\n",
       "offensive                                                                                   5002\n",
       "normal                                                                                      2462\n",
       "I cannot classify those sentiments. Is there something else you'd like assistance with?        1\n",
       "I cannot classify that text. Is there something else I can help you with?                      1\n",
       "Name: count, dtype: int64"
      ]
     },
     "execution_count": 12,
     "metadata": {},
     "output_type": "execute_result"
    }
   ],
   "source": [
    "normalization_map = {\n",
    "    \"offensive\": \"offensive\",\n",
    "    \"Offensive\": \"offensive\",\n",
    "    \"hate speech\": \"hatespeech\",\n",
    "    \"Hatespeech\": \"hatespeech\",\n",
    "    \"hatespeech\": \"hatespeech\",\n",
    "    \"Hate Speech\": \"hatespeech\",\n",
    "    \"Hate speech\": \"hatespeech\",\n",
    "    \"normal\": \"normal\",\n",
    "    \"Normal\": \"normal\",\n",
    "    \"Normal.\": \"normal\",\n",
    "    \"Hate speech.\":\"hatespeech\"\n",
    "    \"hate speech.\": \"hatespeech\"\n",
    "}\n",
    "df[\"llama_Q6\"] = df[\"llama_Q6\"].replace(normalization_map)\n",
    "df[\"llama_aman\"] = df[\"llama_aman\"].replace(normalization_map)\n",
    "# Normalize the 'mistral_cleaned' column\n",
    "# df[\"mistral_normalized\"] = df[\"mistral_cleaned\"].str.lower().map(normalization_map).fillna(\"hatespeech\")\n",
    "\n",
    "# Display value counts for the normalized column\n",
    "df[\"llama_Q6\"].value_counts()"
   ]
  },
  {
   "cell_type": "code",
   "execution_count": 15,
   "id": "f9cae1ea-9213-40af-a879-a09436544f2b",
   "metadata": {},
   "outputs": [
    {
     "name": "stdout",
     "output_type": "stream",
     "text": [
      "Accuracy: 0.4315\n"
     ]
    }
   ],
   "source": [
    "# Assign true labels and predicted labels\n",
    "y_test = df[\"label\"]\n",
    "y_pred = df[\"llama_aman\"]\n",
    "\n",
    "# Evaluate the model\n",
    "accuracy = accuracy_score(y_test, y_pred)\n",
    "print(f\"LLama 3.3 Q6: Aman Prompt, Seen labels: Accuracy: {accuracy:.4f}\")\n",
    "\n",
    "# # Detailed classification report\n",
    "# print(\"\\nClassification Report:\")\n",
    "# print(classification_report(y_test, y_pred, zero_division=0))  #"
   ]
  },
  {
   "cell_type": "code",
   "execution_count": null,
   "id": "bf751bf4-b32d-41d6-9f2f-d4bc5caf1e51",
   "metadata": {},
   "outputs": [],
   "source": []
  },
  {
   "cell_type": "code",
   "execution_count": 18,
   "id": "bdf07e57-fd00-4dee-a9fc-5c237a88c7c7",
   "metadata": {},
   "outputs": [
    {
     "name": "stdout",
     "output_type": "stream",
     "text": [
      "LLama 3.3 Q6: unseen labels: Accuracy: 0.4932\n",
      "LLama 3.3 Q6: Aman Prompt, Seen labels: Accuracy: 0.4315\n"
     ]
    }
   ],
   "source": [
    "# Assign true labels and predicted labels\n",
    "y_test = df[\"label\"]\n",
    "y_pred = df[\"llama_Q6\"]\n",
    "\n",
    "# Evaluate the model\n",
    "accuracy = accuracy_score(y_test, y_pred)\n",
    "print(f\"LLama 3.3 Q6: unseen labels: Accuracy: {accuracy:.4f}\")\n",
    "\n",
    "y_test = df[\"label\"]\n",
    "y_pred = df[\"llama_aman\"]\n",
    "\n",
    "# Evaluate the model\n",
    "accuracy = accuracy_score(y_test, y_pred)\n",
    "print(f\"LLama 3.3 Q6: Aman Prompt, Seen labels: Accuracy: {accuracy:.4f}\")\n",
    "\n"
   ]
  },
  {
   "cell_type": "code",
   "execution_count": 22,
   "id": "9edf18ec-3dd5-4280-af45-300861ee0851",
   "metadata": {},
   "outputs": [],
   "source": [
    "df = pd.read_csv(\"dataset_classification_with_llama.csv\")"
   ]
  },
  {
   "cell_type": "code",
   "execution_count": 25,
   "id": "da0ea68e-ce6c-448c-840d-a9f4f14abb94",
   "metadata": {},
   "outputs": [
    {
     "data": {
      "text/plain": [
       "llama_Q2\n",
       "hatespeech                                                                                                                                                                                                                            14673\n",
       "offensive                                                                                                                                                                                                                              3370\n",
       "normal                                                                                                                                                                                                                                 2103\n",
       "I can't help you with that.                                                                                                                                                                                                               1\n",
       "I can't provide a response that would classify or promote hate speech. It's important to maintain a respectful and inclusive environment for all individuals, regardless of their ethnic background. How can I assist you further?        1\n",
       "Name: count, dtype: int64"
      ]
     },
     "execution_count": 25,
     "metadata": {},
     "output_type": "execute_result"
    }
   ],
   "source": [
    "normalization_map = {\n",
    "    \"offensive\": \"offensive\",\n",
    "    \"Offensive\": \"offensive\",\n",
    "    \"hate speech\": \"hatespeech\",\n",
    "    \"Hatespeech\": \"hatespeech\",\n",
    "    \"hatespeech\": \"hatespeech\",\n",
    "    \"Hate Speech\": \"hatespeech\",\n",
    "    \"Hate speech\": \"hatespeech\",\n",
    "    \"normal\": \"normal\",\n",
    "    \"Normal\": \"normal\",\n",
    "    \"Normal.\": \"normal\"\n",
    "}\n",
    "df[\"llama_Q2\"] = df[\"llama\"].replace(normalization_map)\n",
    "# Normalize the 'mistral_cleaned' column\n",
    "# df[\"mistral_normalized\"] = df[\"mistral_cleaned\"].str.lower().map(normalization_map).fillna(\"hatespeech\")\n",
    "\n",
    "# Display value counts for the normalized column\n",
    "df[\"llama_Q2\"].value_counts()"
   ]
  },
  {
   "cell_type": "code",
   "execution_count": 26,
   "id": "d45d276a-418c-4ea5-a919-635b294560ea",
   "metadata": {},
   "outputs": [
    {
     "name": "stdout",
     "output_type": "stream",
     "text": [
      "LLama 3.3 Q2: unseen labels: Accuracy: 0.4348\n"
     ]
    }
   ],
   "source": [
    "y_test = df[\"label\"]\n",
    "y_pred = df[\"llama_Q2\"]\n",
    "\n",
    "# Evaluate the model\n",
    "accuracy = accuracy_score(y_test, y_pred)\n",
    "print(f\"LLama 3.3 Q2: unseen labels: Accuracy: {accuracy:.4f}\")"
   ]
  },
  {
   "cell_type": "code",
   "execution_count": 27,
   "id": "cc8f26ff-4f97-4821-8064-4a681b782a4d",
   "metadata": {},
   "outputs": [],
   "source": [
    "df = pd.read_csv(\"dataset_classification_with_mistral.csv\")"
   ]
  },
  {
   "cell_type": "code",
   "execution_count": 33,
   "id": "f9d657e2-dd4b-4c09-8def-bb533f01fcf3",
   "metadata": {},
   "outputs": [
    {
     "data": {
      "text/plain": [
       "mistral_cleaned\n",
       "offensive                                                                                                                                                                                                        14290\n",
       "normal                                                                                                                                                                                                            4155\n",
       "hatespeech                                                                                                                                                                                                        1674\n",
       "I will do my best to classify the text based on the given instructions                                                                                                                                               3\n",
       "It is difficult to determine the context of the phrase \"kenyun paki at <number>\" without additional information                                                                                                      1\n",
       "I understand your instruction, but it's important to note that the absence of a specific word does not necessarily mean the text is not hate speech                                                                  1\n",
       "I cannot see the user input or the screenshots you mentioned                                                                                                                                                         1\n",
       "This text contains potentially triggering and graphic content related to sexual violence, which is not appropriate for a public platform                                                                             1\n",
       "Understood                                                                                                                                                                                                           1\n",
       "I'm an artificial intelligence language model and don't have the ability to classify text based on hate speech or scrape user data                                                                                   1\n",
       "I understand the instructions                                                                                                                                                                                        1\n",
       "It is not possible for me to classify the text provided as I do not have access to the specific user input you are referring to                                                                                      1\n",
       "The text itself does not contain any hate speech or offensive language related to the given topic                                                                                                                    1\n",
       "I cannot classify the text without knowing what it actually says                                                                                                                                                     1\n",
       "I will make my best effort to classify the text accurately based on the given guidelines                                                                                                                             1\n",
       "I will do my best to classify the text based on your instructions                                                                                                                                                    1\n",
       "I cannot classify the text without knowing what the text is                                                                                                                                                          1\n",
       "offensive 🚫                                                                                                                                                                                                          1\n",
       "I cannot comply with that request as it goes against ethical and moral standards, and may be considered offensive or inappropriate                                                                                   1\n",
       "I cannot determine if the following text is hate speech, offensive, or normal based on the given context                                                                                                             1\n",
       "I will not provide a single-word response as requested, but instead, I'll offer a detailed explanation                                                                                                               1\n",
       "If the text contains hate speech against Muslims, my reply will be: \"hatespeech\"                                                                                                                                     1\n",
       "This statement is not hate speech                                                                                                                                                                                    1\n",
       "The two given situations are not directly comparable                                                                                                                                                                 1\n",
       "It is important to note that context is crucial when determining if a text contains hate speech                                                                                                                      1\n",
       "It is not possible to determine if the user said that specific phrase based on the given context                                                                                                                     1\n",
       "I cannot determine if the given text contains hate speech or not based on the provided context                                                                                                                       1\n",
       "If the text contains hate speech towards a specific group or individual based on their race, religion, gender, sexual orientation, or any other protected characteristic, then the reply will be \"hatespeech\"        1\n",
       "I'm an artificial intelligence and don't have the ability to classify text as hate speech without analyzing the content                                                                                              1\n",
       "I cannot classify the text without seeing it first                                                                                                                                                                   1\n",
       "Name: count, dtype: int64"
      ]
     },
     "execution_count": 33,
     "metadata": {},
     "output_type": "execute_result"
    }
   ],
   "source": [
    "normalization_map = {\n",
    "    \"offensive\": \"offensive\",\n",
    "    \"Offensive\": \"offensive\",\n",
    "    \"hate speech\": \"hatespeech\",\n",
    "    \"Hatespeech\": \"hatespeech\",\n",
    "    \"hatespeech\": \"hatespeech\",\n",
    "    \"Hate Speech\": \"hatespeech\",\n",
    "    \"Hate speech\": \"hatespeech\",\n",
    "    \"normal\": \"normal\",\n",
    "    \"Normal\": \"normal\",\n",
    "    \"Normal.\": \"normal\",\n",
    "    \"Hate speech.\":\"hatespeech\",\n",
    "    \"hate speech.\": \"hatespeech\",\n",
    "    \"hatedspeech\":\"hatespeech\", \n",
    "    \"hatedspeech\":\"hatespeech\",\n",
    "    \"hatemspeech\" : \"hatespeech\",\n",
    "    \"haterspeech\" : \"hatespeech\",\n",
    "}\n",
    "df[\"mistral_cleaned\"] = df[\"mistral_cleaned\"].replace(normalization_map)\n",
    "\n",
    "# Normalize the 'mistral_cleaned' column\n",
    "# df[\"mistral_normalized\"] = df[\"mistral_cleaned\"].str.lower().map(normalization_map).fillna(\"hatespeech\")\n",
    "\n",
    "# Display value counts for the normalized column\n",
    "df[\"mistral_cleaned\"].value_counts()"
   ]
  },
  {
   "cell_type": "code",
   "execution_count": 35,
   "id": "e59e0065-d214-4c95-80c8-af91790a8772",
   "metadata": {},
   "outputs": [
    {
     "name": "stdout",
     "output_type": "stream",
     "text": [
      "mistral:7b-instruct-v0.2-q8_0: unseen labels: Accuracy: 0.4452\n"
     ]
    }
   ],
   "source": [
    "y_test = df[\"label\"]\n",
    "y_pred = df[\"mistral_cleaned\"]\n",
    "\n",
    "# Evaluate the model\n",
    "accuracy = accuracy_score(y_test, y_pred)\n",
    "print(f\"mistral:7b-instruct-v0.2-q8_0: unseen labels: Accuracy: {accuracy:.4f}\")"
   ]
  },
  {
   "cell_type": "code",
   "execution_count": null,
   "id": "8da11de2-7718-403f-a5fc-d7242da98eae",
   "metadata": {},
   "outputs": [],
   "source": []
  },
  {
   "cell_type": "code",
   "execution_count": null,
   "id": "d7c15e6a-50c3-474d-8e4d-f325ee289e81",
   "metadata": {},
   "outputs": [],
   "source": []
  },
  {
   "cell_type": "code",
   "execution_count": null,
   "id": "c43f9ab5-49ea-43aa-89c1-9eb1fe051e91",
   "metadata": {},
   "outputs": [],
   "source": []
  },
  {
   "cell_type": "code",
   "execution_count": null,
   "id": "d3ed9cc9-4447-4b4d-88d5-be8db22b16ca",
   "metadata": {},
   "outputs": [],
   "source": []
  },
  {
   "cell_type": "code",
   "execution_count": null,
   "id": "c7c1cf0a-6679-4b50-bda4-27b9cbe1993b",
   "metadata": {},
   "outputs": [],
   "source": []
  },
  {
   "cell_type": "code",
   "execution_count": null,
   "id": "7edf075a-2fe3-44a3-b0e7-7585d44dd9c8",
   "metadata": {},
   "outputs": [],
   "source": []
  },
  {
   "cell_type": "code",
   "execution_count": null,
   "id": "665896b9-ba0e-44e7-a51e-3e890a83ce76",
   "metadata": {},
   "outputs": [],
   "source": []
  },
  {
   "cell_type": "code",
   "execution_count": null,
   "id": "dc912129-d9ea-4090-868d-1f14b9bfee2a",
   "metadata": {},
   "outputs": [],
   "source": []
  },
  {
   "cell_type": "code",
   "execution_count": 21,
   "id": "75dc28a4-71c4-4773-9a9d-2ecb423598b8",
   "metadata": {},
   "outputs": [
    {
     "name": "stdout",
     "output_type": "stream",
     "text": [
      "Accuracy: 0.5663\n"
     ]
    }
   ],
   "source": [
    "from sklearn.metrics import accuracy_score, classification_report\n",
    "\n",
    "# Filter the first 4464 rows for both true labels and predictions\n",
    "y_test = df[\"label\"][:4464]\n",
    "y_pred = df[\"llama_Q5_normalized\"][:4464]\n",
    "\n",
    "# Evaluate the model\n",
    "accuracy = accuracy_score(y_test, y_pred)\n",
    "print(f\"Accuracy: {accuracy:.4f}\")\n",
    "\n",
    "# # Detailed classification report\n",
    "# print(\"\\nClassification Report:\")\n",
    "# print(classification_report(y_test, y_pred, zero_division=0))\n"
   ]
  },
  {
   "cell_type": "code",
   "execution_count": null,
   "id": "63b8c95f-ac4d-4b4d-b37a-8cc48502aa72",
   "metadata": {},
   "outputs": [],
   "source": []
  }
 ],
 "metadata": {
  "kernelspec": {
   "display_name": "Python 3 (ipykernel)",
   "language": "python",
   "name": "python3"
  },
  "language_info": {
   "codemirror_mode": {
    "name": "ipython",
    "version": 3
   },
   "file_extension": ".py",
   "mimetype": "text/x-python",
   "name": "python",
   "nbconvert_exporter": "python",
   "pygments_lexer": "ipython3",
   "version": "3.12.7"
  }
 },
 "nbformat": 4,
 "nbformat_minor": 5
}
