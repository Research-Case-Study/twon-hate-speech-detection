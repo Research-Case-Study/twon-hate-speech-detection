{
 "cells": [
  {
   "cell_type": "code",
   "execution_count": 55,
   "id": "7078f409-858b-4cb2-a740-2f92cd0596ec",
   "metadata": {},
   "outputs": [],
   "source": [
    "import pandas as pd\n",
    "from sklearn.model_selection import train_test_split\n",
    "from sklearn.metrics import accuracy_score\n",
    "from sklearn.preprocessing import LabelEncoder\n",
    "import re\n",
    "from sklearn.metrics import accuracy_score, classification_report\n",
    "import numpy as np"
   ]
  },
  {
   "cell_type": "code",
   "execution_count": 56,
   "id": "a71775b0-aa26-4837-8bb2-774cc08405ef",
   "metadata": {},
   "outputs": [],
   "source": [
    "# TRAIN_DF = pd.read_csv(\"Data/TRAIN_DF.csv\", index_col=0)\n",
    "TEST_DF = pd.read_csv(\"C:\\\\MachineLearning\\\\UniTrier\\\\RCS\\\\twon-hate-speech-detection\\\\Data\\\\knowledge_base_data\\\\TEST_DF.csv\", index_col=1)"
   ]
  },
  {
   "cell_type": "code",
   "execution_count": 57,
   "id": "614ef2d0-9bfd-46c4-89b0-23fb323508f4",
   "metadata": {},
   "outputs": [
    {
     "name": "stdout",
     "output_type": "stream",
     "text": [
      "<class 'pandas.core.frame.DataFrame'>\n",
      "Index: 2016 entries, 10071 to 6853\n",
      "Data columns (total 9 columns):\n",
      " #   Column          Non-Null Count  Dtype  \n",
      "---  ------          --------------  -----  \n",
      " 0   Unnamed: 0.1    2016 non-null   int64  \n",
      " 1   Input           2016 non-null   object \n",
      " 2   Response        2016 non-null   object \n",
      " 3   Time Taken (s)  2016 non-null   float64\n",
      " 4   tweet_text      2016 non-null   object \n",
      " 5   key_features    2016 non-null   object \n",
      " 6   label           2016 non-null   object \n",
      " 7   target          1819 non-null   object \n",
      " 8   Unnamed: 0      1115 non-null   float64\n",
      "dtypes: float64(2), int64(1), object(6)\n",
      "memory usage: 157.5+ KB\n"
     ]
    }
   ],
   "source": [
    "TEST_DF.info()"
   ]
  },
  {
   "cell_type": "code",
   "execution_count": 58,
   "id": "28dcb0ab-08b5-4150-bdac-c2966444a9e9",
   "metadata": {},
   "outputs": [
    {
     "data": {
      "text/plain": [
       "label\n",
       "normal        672\n",
       "hatespeech    672\n",
       "offensive     672\n",
       "Name: count, dtype: int64"
      ]
     },
     "execution_count": 58,
     "metadata": {},
     "output_type": "execute_result"
    }
   ],
   "source": [
    "TEST_DF['label'].value_counts()"
   ]
  },
  {
   "cell_type": "code",
   "execution_count": 59,
   "id": "23ad0b8b-b64e-4778-b144-9bacb99ad365",
   "metadata": {},
   "outputs": [],
   "source": [
    "#TEST_DF.set_index('Row Number', inplace=True)"
   ]
  },
  {
   "cell_type": "code",
   "execution_count": 60,
   "id": "f04e23c6-8ecd-4f3a-8686-eef217995058",
   "metadata": {},
   "outputs": [],
   "source": [
    "# this dataset have predictions of all LLMs combined (WITHOUT RAG)\n",
    "# change the absolute path or use os chdir twice to go back and give path to llms\\combined_all_llm_classification_predictions_no_RAG.csv\n",
    "non_rag_combined_results_df = pd.read_csv(\"C:\\\\MachineLearning\\\\UniTrier\\\\RCS\\\\twon-hate-speech-detection\\\\classification_experiments\\\\llms\\\\combined_all_llm_classification_predictions_no_RAG.csv\", index_col=0)"
   ]
  },
  {
   "cell_type": "code",
   "execution_count": 61,
   "id": "e011a01f-37bd-4d4c-ad4f-b1f6599c9744",
   "metadata": {},
   "outputs": [],
   "source": [
    "# these datasets have predictions (WITH RAG)\n",
    "hermes_rag_df = pd.read_csv(\"classified_test_df_Hermes-3-Llama-3.1-70B-Q5_K_S.csv\", index_col=1)\n",
    "mistral_rag_df = pd.read_csv(\"classified_test_df_mistral-7b-instruct-v0.2-q8_0.csv\", index_col=1)\n",
    "llama_rag_df = pd.read_csv(\"classified_test_df_Llama-3.3-70B-Instruct-Q5-K.csv\", index_col=1)"
   ]
  },
  {
   "cell_type": "code",
   "execution_count": 22,
   "id": "ac43fe99-7557-46f9-a5bc-b1070a51b709",
   "metadata": {},
   "outputs": [],
   "source": [
    "df2 = hermes_rag_df\n",
    "df1 = llama_rag_df"
   ]
  },
  {
   "cell_type": "code",
   "execution_count": 62,
   "id": "39ac714e-e431-4f9d-8562-a4c522ee59c5",
   "metadata": {},
   "outputs": [],
   "source": [
    "TEST_DF = TEST_DF.merge(\n",
    "    hermes_rag_df[['RAG_Hermes-3-Llama-3.1-70B-Q5_K_S']], how='left', left_index=True, right_index=True\n",
    ")\n",
    "\n",
    "TEST_DF = TEST_DF.merge(\n",
    "    llama_rag_df[['RAG_Llama-3.3-70B-Instruct-Q5-K']], how='left', left_index=True, right_index=True\n",
    ")\n",
    "TEST_DF = TEST_DF.merge(\n",
    "    mistral_rag_df[['RAG_mistral:7b-instruct-v0.2-q8_0']], how='left', left_index=True, right_index=True\n",
    ")\n",
    "\n",
    "TEST_DF = TEST_DF.merge(\n",
    "    non_rag_combined_results_df[['Hermes-3-Llama-3.1-70B-Q5_K_S', 'llama3.3:70B-Instruct-Q2_K', 'llama3.3:70b-instruct-q6_K-SEEN_DATA', 'llama3.3:70b-instruct-q6_K', 'mistral:7b-instruct-v0.2-q8_0']],\n",
    "    how='left', left_index=True, right_index=True\n",
    ")"
   ]
  },
  {
   "cell_type": "code",
   "execution_count": 69,
   "id": "d9251365-8280-4ec3-a0b7-c2d3bd75feec",
   "metadata": {},
   "outputs": [
    {
     "data": {
      "text/plain": [
       "(2016, 17)"
      ]
     },
     "execution_count": 69,
     "metadata": {},
     "output_type": "execute_result"
    }
   ],
   "source": [
    "TEST_DF.shape"
   ]
  },
  {
   "cell_type": "code",
   "execution_count": 63,
   "id": "70c5f0de-1fac-45fe-8928-215a3b7502f9",
   "metadata": {},
   "outputs": [
    {
     "data": {
      "text/plain": [
       "Unnamed: 0.1                              0\n",
       "Input                                     0\n",
       "Response                                  0\n",
       "Time Taken (s)                            0\n",
       "tweet_text                                0\n",
       "key_features                              0\n",
       "label                                     0\n",
       "target                                  197\n",
       "Unnamed: 0                              901\n",
       "RAG_Hermes-3-Llama-3.1-70B-Q5_K_S         0\n",
       "RAG_Llama-3.3-70B-Instruct-Q5-K           0\n",
       "RAG_mistral:7b-instruct-v0.2-q8_0         0\n",
       "Hermes-3-Llama-3.1-70B-Q5_K_S             0\n",
       "llama3.3:70B-Instruct-Q2_K                0\n",
       "llama3.3:70b-instruct-q6_K-SEEN_DATA      0\n",
       "llama3.3:70b-instruct-q6_K                0\n",
       "mistral:7b-instruct-v0.2-q8_0             0\n",
       "dtype: int64"
      ]
     },
     "execution_count": 63,
     "metadata": {},
     "output_type": "execute_result"
    }
   ],
   "source": [
    "TEST_DF.isna().sum()"
   ]
  },
  {
   "cell_type": "code",
   "execution_count": 64,
   "id": "2955ce2f-9c32-4d2e-a84b-20e954b419b5",
   "metadata": {},
   "outputs": [],
   "source": [
    "# data cleaning\n",
    "normalization_map = {\n",
    "    \"offensive\": \"offensive\",\n",
    "    \"Offensive\": \"offensive\",\n",
    "    \"[offensive]\": \"offensive\",\n",
    "    \"[Offensive]\": \"offensive\",\n",
    "    \"<assistant> offensitive\": \"offensive\",\n",
    "    \"offensive.\": \"offensive\",\n",
    "    \"<assistant> offensive\": \"offensive\",\n",
    "    \n",
    "    \"hate speech\": \"hatespeech\",\n",
    "    \"Hatespeech\": \"hatespeech\",\n",
    "    \"hate speech\"\n",
    "    \"hatespeech\": \"hatespeech\",\n",
    "    \"Hate Speech\": \"hatespeech\",\n",
    "    \"Hate speech\": \"hatespeech\",\n",
    "    \"Hate speech.\": \"hatespeech\",\n",
    "    \"hate speech.\": \"hatespeech\",\n",
    "    \"hatedspeech\": \"hatespeech\",\n",
    "    \"hatemspeech\": \"hatespeech\",\n",
    "    \"haterspeech\": \"hatespeech\",\n",
    "    \"[hate speech]\": \"hatespeech\",\n",
    "    \"[Hate Speech]\": \"hatespeech\",\n",
    "    \"<hate speech>\": \"hatespeech\",\n",
    "    \"'hatespeech'\": \"hatespeech\",\n",
    "    \"hatredspeech\": \"hatespeech\",\n",
    "    \"**Hate Speech**\": \"hatespeech\",\n",
    "    \"'hate speech'\": \"hatespeech\",\n",
    "    \"<hatespeech>\": \"hatespeech\",\n",
    "    \"[hatespeech]\": \"hatespeech\",\n",
    "    \n",
    "    \"normal\": \"normal\",\n",
    "    \"Normal\": \"normal\",\n",
    "    \"Normal.\": \"normal\",\n",
    "    \"[normal]\": \"normal\",\n",
    "    \"[Normal]\": \"normal\",\n",
    "    \n",
    "    # Handle cases where the label is inside a list-like structure\n",
    "    \"[Userinput, \\\"normal\\\", 1]\": \"normal\",\n",
    "    \"[Userinput, \\\"offensive\\\", 1]\": \"offensive\",\n",
    "    \"[Userinput, \\\"hatespeech\\\", 1]\": \"hatespeech\",\n",
    "}\n",
    "\n",
    "\n",
    "columns_to_normalize = [\n",
    "    \"label\",\n",
    "    \"Hermes-3-Llama-3.1-70B-Q5_K_S\",\n",
    "    \"llama3.3:70B-Instruct-Q2_K\",\n",
    "    \"llama3.3:70b-instruct-q6_K-SEEN_DATA\",\n",
    "    \"llama3.3:70b-instruct-q6_K\",\n",
    "    \"mistral:7b-instruct-v0.2-q8_0\",\n",
    "\n",
    "    #\"RAG_llama3.3:70b-instruct-q6_K\",\n",
    "    #\"RAG_mistral:7b-instruct-v0.2-q8_0\",\n",
    "    \"RAG_Llama-3.3-70B-Instruct-Q5-K\",\n",
    "    \"RAG_mistral:7b-instruct-v0.2-q8_0\",\n",
    "    \"RAG_Hermes-3-Llama-3.1-70B-Q5_K_S\",\n",
    "]\n",
    "def clean_text(text):\n",
    "    if isinstance(text, str):  # Ensure it's a string before applying regex\n",
    "        # return re.split(r'[.\\n]', text, 1)[0].strip()  # Keep only the part before the first \".\" or \"\\n\"\n",
    "        return re.split(r'[.\\n\"]|\\s*\\(', text, 1)[0].strip()  # Split at \".\", \"\\n\", or \" (\" and keep the first part\n",
    "    return text\n",
    "    \n",
    "for column in columns_to_normalize:\n",
    "    TEST_DF[column] = TEST_DF[column].str.strip('\"').str.strip().apply(clean_text)\n",
    "    TEST_DF[column] = TEST_DF[column].replace(normalization_map)"
   ]
  },
  {
   "cell_type": "code",
   "execution_count": 65,
   "id": "941866e9-122d-4611-bebe-8536620f12db",
   "metadata": {},
   "outputs": [
    {
     "data": {
      "text/plain": [
       "array(['normal', 'hatespeech', 'offensive'], dtype=object)"
      ]
     },
     "execution_count": 65,
     "metadata": {},
     "output_type": "execute_result"
    }
   ],
   "source": [
    "TEST_DF.label.unique()"
   ]
  },
  {
   "cell_type": "code",
   "execution_count": null,
   "id": "5d40e9a8-eded-410a-81f1-a67751c7b063",
   "metadata": {},
   "outputs": [],
   "source": []
  },
  {
   "cell_type": "code",
   "execution_count": 67,
   "id": "4fc6b180-47bb-4403-8b68-472dd2681065",
   "metadata": {},
   "outputs": [
    {
     "name": "stdout",
     "output_type": "stream",
     "text": [
      "\n",
      "Accuracy for Hermes-3-Llama-3.1-70B-Q5_K_S: 0.5094\n",
      "\n",
      "Hermes-3-Llama-3.1-70B-Q5_K_S Classification Report:\n",
      "              precision    recall  f1-score   support\n",
      "\n",
      "   offensive       0.43      0.27      0.33       670\n",
      "      normal       0.70      0.37      0.48       672\n",
      "  hatespeech       0.48      0.89      0.63       672\n",
      "\n",
      "    accuracy                           0.51      2014\n",
      "   macro avg       0.54      0.51      0.48      2014\n",
      "weighted avg       0.54      0.51      0.48      2014\n",
      "\n",
      "\n",
      "Accuracy for llama3.3:70B-Instruct-Q2_K: 0.4425\n",
      "\n",
      "llama3.3:70B-Instruct-Q2_K Classification Report:\n",
      "              precision    recall  f1-score   support\n",
      "\n",
      "   offensive       0.37      0.16      0.22       672\n",
      "      normal       0.83      0.21      0.34       672\n",
      "  hatespeech       0.41      0.95      0.58       672\n",
      "\n",
      "    accuracy                           0.44      2016\n",
      "   macro avg       0.54      0.44      0.38      2016\n",
      "weighted avg       0.54      0.44      0.38      2016\n",
      "\n",
      "\n",
      "Accuracy for llama3.3:70b-instruct-q6_K-SEEN_DATA: 0.4474\n",
      "\n",
      "llama3.3:70b-instruct-q6_K-SEEN_DATA Classification Report:\n",
      "              precision    recall  f1-score   support\n",
      "\n",
      "   offensive       0.28      0.12      0.17       672\n",
      "      normal       0.93      0.24      0.38       672\n",
      "  hatespeech       0.42      0.99      0.59       672\n",
      "\n",
      "    accuracy                           0.45      2016\n",
      "   macro avg       0.55      0.45      0.38      2016\n",
      "weighted avg       0.55      0.45      0.38      2016\n",
      "\n",
      "\n",
      "Accuracy for llama3.3:70b-instruct-q6_K: 0.5129\n",
      "\n",
      "llama3.3:70b-instruct-q6_K Classification Report:\n",
      "              precision    recall  f1-score   support\n",
      "\n",
      "   offensive       0.45      0.30      0.36       672\n",
      "      normal       0.87      0.27      0.41       672\n",
      "  hatespeech       0.48      0.97      0.64       672\n",
      "\n",
      "    accuracy                           0.51      2016\n",
      "   macro avg       0.60      0.51      0.47      2016\n",
      "weighted avg       0.60      0.51      0.47      2016\n",
      "\n",
      "\n",
      "Accuracy for mistral:7b-instruct-v0.2-q8_0: 0.4697\n",
      "\n",
      "mistral:7b-instruct-v0.2-q8_0 Classification Report:\n",
      "              precision    recall  f1-score   support\n",
      "\n",
      "   offensive       0.38      0.83      0.52       671\n",
      "      normal       0.69      0.37      0.48       671\n",
      "  hatespeech       0.75      0.21      0.33       672\n",
      "\n",
      "    accuracy                           0.47      2014\n",
      "   macro avg       0.61      0.47      0.44      2014\n",
      "weighted avg       0.61      0.47      0.44      2014\n",
      "\n",
      "\n",
      "Accuracy for RAG_Llama-3.3-70B-Instruct-Q5-K: 0.5471\n",
      "\n",
      "RAG_Llama-3.3-70B-Instruct-Q5-K Classification Report:\n",
      "              precision    recall  f1-score   support\n",
      "\n",
      "   offensive       0.50      0.40      0.44       672\n",
      "      normal       0.80      0.31      0.45       672\n",
      "  hatespeech       0.51      0.93      0.66       672\n",
      "\n",
      "    accuracy                           0.55      2016\n",
      "   macro avg       0.61      0.55      0.52      2016\n",
      "weighted avg       0.61      0.55      0.52      2016\n",
      "\n",
      "\n",
      "Accuracy for RAG_Hermes-3-Llama-3.1-70B-Q5_K_S: 0.6072\n",
      "\n",
      "RAG_Hermes-3-Llama-3.1-70B-Q5_K_S Classification Report:\n",
      "              precision    recall  f1-score   support\n",
      "\n",
      "   offensive       0.50      0.57      0.54       672\n",
      "      normal       0.71      0.49      0.58       671\n",
      "  hatespeech       0.65      0.76      0.70       671\n",
      "\n",
      "    accuracy                           0.61      2014\n",
      "   macro avg       0.62      0.61      0.60      2014\n",
      "weighted avg       0.62      0.61      0.60      2014\n",
      "\n",
      "\n",
      "Accuracy for RAG_mistral:7b-instruct-v0.2-q8_0: 0.5211\n",
      "\n",
      "RAG_mistral:7b-instruct-v0.2-q8_0 Classification Report:\n",
      "              precision    recall  f1-score   support\n",
      "\n",
      "   offensive       0.41      0.77      0.54       671\n",
      "      normal       0.69      0.42      0.52       672\n",
      "  hatespeech       0.72      0.37      0.49       672\n",
      "\n",
      "    accuracy                           0.52      2015\n",
      "   macro avg       0.61      0.52      0.52      2015\n",
      "weighted avg       0.61      0.52      0.52      2015\n",
      "\n"
     ]
    }
   ],
   "source": [
    "from sklearn.metrics import accuracy_score, classification_report\n",
    "import numpy as np\n",
    "\n",
    "# List of classifier prediction columns\n",
    "other_classifier_columns = [\n",
    "    \"Hermes-3-Llama-3.1-70B-Q5_K_S\",\n",
    "    \"llama3.3:70B-Instruct-Q2_K\",\n",
    "    \"llama3.3:70b-instruct-q6_K-SEEN_DATA\",\n",
    "    \"llama3.3:70b-instruct-q6_K\",\n",
    "    \"mistral:7b-instruct-v0.2-q8_0\",\n",
    "    \"RAG_Llama-3.3-70B-Instruct-Q5-K\",\n",
    "    \"RAG_Hermes-3-Llama-3.1-70B-Q5_K_S\",\n",
    "    \"RAG_mistral:7b-instruct-v0.2-q8_0\",\n",
    "]\n",
    "\n",
    "# True labels (ground truth)\n",
    "y_test = TEST_DF[\"label\"].astype(str).values  # Ensure string type\n",
    "\n",
    "# Get valid labels from TEST_DF (ground truth)\n",
    "valid_labels = set(TEST_DF[\"label\"].dropna().unique())  # Ensure no NaN values\n",
    "\n",
    "for column in other_classifier_columns:\n",
    "    # Convert predictions to string and filter out NaN values\n",
    "    y_pred_other = TEST_DF[column].astype(str).values\n",
    "    y_test = TEST_DF[\"label\"].astype(str).values  # Ground truth labels\n",
    "\n",
    "    # Remove invalid predictions (i.e., predictions not in valid_labels)\n",
    "    valid_indices = np.array([pred in valid_labels for pred in y_pred_other])\n",
    "    y_test_valid = y_test[valid_indices]\n",
    "    y_pred_other_valid = y_pred_other[valid_indices]\n",
    "\n",
    "    # Compute accuracy only for valid predictions\n",
    "    accuracy_other = accuracy_score(y_test_valid, y_pred_other_valid)\n",
    "    print(f\"\\nAccuracy for {column}: {accuracy_other:.4f}\")\n",
    "\n",
    "    # Detailed classification report (ignore invalid predictions)\n",
    "    print(f\"\\n{column} Classification Report:\")\n",
    "    print(classification_report(y_test_valid, y_pred_other_valid, labels=list(valid_labels), zero_division=0))"
   ]
  },
  {
   "cell_type": "code",
   "execution_count": null,
   "id": "18667b9a-ed6b-4851-be1f-e62182001b80",
   "metadata": {},
   "outputs": [],
   "source": []
  },
  {
   "cell_type": "code",
   "execution_count": null,
   "id": "6ca824fd-5bb8-484f-9d56-1b81b23d65a4",
   "metadata": {},
   "outputs": [],
   "source": []
  }
 ],
 "metadata": {
  "kernelspec": {
   "display_name": "Python 3 (ipykernel)",
   "language": "python",
   "name": "python3"
  },
  "language_info": {
   "codemirror_mode": {
    "name": "ipython",
    "version": 3
   },
   "file_extension": ".py",
   "mimetype": "text/x-python",
   "name": "python",
   "nbconvert_exporter": "python",
   "pygments_lexer": "ipython3",
   "version": "3.12.7"
  }
 },
 "nbformat": 4,
 "nbformat_minor": 5
}
