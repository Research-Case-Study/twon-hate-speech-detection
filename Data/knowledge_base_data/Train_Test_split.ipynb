{
 "cells": [
  {
   "cell_type": "code",
   "execution_count": 1,
   "id": "832104cd-037f-4928-b24b-c08a88e2cc04",
   "metadata": {},
   "outputs": [],
   "source": [
    "import pandas as pd\n",
    "\n",
    "df = pd.read_csv(\"dataset_with_explanations_full.csv\")"
   ]
  },
  {
   "cell_type": "code",
   "execution_count": 7,
   "id": "e0fd06f1-3dda-4946-b2ea-1c20bb702878",
   "metadata": {},
   "outputs": [
    {
     "data": {
      "text/plain": [
       "(20147, 9)"
      ]
     },
     "execution_count": 7,
     "metadata": {},
     "output_type": "execute_result"
    }
   ],
   "source": [
    "df.shape"
   ]
  },
  {
   "cell_type": "code",
   "execution_count": 4,
   "id": "1a6e87c0-0b12-49eb-8101-796b90134346",
   "metadata": {},
   "outputs": [
    {
     "name": "stdout",
     "output_type": "stream",
     "text": [
      "Train label distribution:\n",
      " label\n",
      "normal        0.404644\n",
      "hatespeech    0.309398\n",
      "offensive     0.285959\n",
      "Name: proportion, dtype: float64\n",
      "Test label distribution:\n",
      " label\n",
      "normal        0.404467\n",
      "hatespeech    0.309677\n",
      "offensive     0.285856\n",
      "Name: proportion, dtype: float64\n"
     ]
    }
   ],
   "source": [
    "from sklearn.model_selection import train_test_split\n",
    "\n",
    "# Split the data ensuring stratification based on the 'label' column\n",
    "train_df, test_df = train_test_split(df, test_size=0.1, stratify=df['label'], random_state=42)\n",
    "\n",
    "# Verify the label distribution in both sets\n",
    "print(\"Train label distribution:\\n\", train_df['label'].value_counts(normalize=True))\n",
    "print(\"Test label distribution:\\n\", test_df['label'].value_counts(normalize=True))\n"
   ]
  },
  {
   "cell_type": "code",
   "execution_count": 5,
   "id": "e7c75835-4014-4cfa-8ad9-085c01714fbd",
   "metadata": {},
   "outputs": [
    {
     "data": {
      "text/plain": [
       "(2015, 9)"
      ]
     },
     "execution_count": 5,
     "metadata": {},
     "output_type": "execute_result"
    }
   ],
   "source": []
  },
  {
   "cell_type": "markdown",
   "id": "efd1020d-8bfa-46aa-81aa-84c55a42a21a",
   "metadata": {},
   "source": [
    "**Lets Create test df in a way that, we get same number of rows for each class**\n",
    "\n",
    "**since we have 20147 of total rows. we get 2015 for 10% of it. and then we get 672 for each class**"
   ]
  },
  {
   "cell_type": "code",
   "execution_count": 6,
   "id": "b11b734f-5f2f-4c1a-8bf0-1664f0c2a109",
   "metadata": {},
   "outputs": [
    {
     "name": "stdout",
     "output_type": "stream",
     "text": [
      "Train label distribution:\n",
      " label\n",
      "normal        0.412553\n",
      "hatespeech    0.306767\n",
      "offensive     0.280679\n",
      "Name: proportion, dtype: float64\n",
      "Test label distribution:\n",
      " label\n",
      "normal        0.333333\n",
      "hatespeech    0.333333\n",
      "offensive     0.333333\n",
      "Name: proportion, dtype: float64\n"
     ]
    }
   ],
   "source": [
    "import numpy as np\n",
    "\n",
    "# Define the number of samples you want for each class in the test set\n",
    "num_test_samples_per_class = 672\n",
    "\n",
    "# Create an empty list to store the test samples\n",
    "test_samples = []\n",
    "\n",
    "# For each class, sample the required number of examples from the dataframe\n",
    "for label in df['label'].unique():\n",
    "    # Filter rows that belong to the current class\n",
    "    class_df = df[df['label'] == label]\n",
    "    \n",
    "    # Sample the specified number of rows for the test set\n",
    "    class_test_df = class_df.sample(n=num_test_samples_per_class, random_state=42)\n",
    "    \n",
    "    # Append the sampled rows to the test_samples list\n",
    "    test_samples.append(class_test_df)\n",
    "\n",
    "# Concatenate the test samples into a single DataFrame\n",
    "test_df = pd.concat(test_samples)\n",
    "\n",
    "# Drop the selected test samples from the original dataframe to create the train set\n",
    "train_df = df.drop(test_df.index)\n",
    "\n",
    "# Verify the distribution in the train and test sets\n",
    "print(\"Train label distribution:\\n\", train_df['label'].value_counts(normalize=True))\n",
    "print(\"Test label distribution:\\n\", test_df['label'].value_counts(normalize=True))\n"
   ]
  },
  {
   "cell_type": "code",
   "execution_count": 10,
   "id": "5673905b-159c-4812-a76b-6ce70dde339d",
   "metadata": {},
   "outputs": [],
   "source": [
    "test_df.to_csv(\"TEST_DF.csv\")"
   ]
  },
  {
   "cell_type": "code",
   "execution_count": 11,
   "id": "4b0dab58-f473-4496-a9a6-3647b7123acf",
   "metadata": {},
   "outputs": [],
   "source": [
    "train_df.to_csv(\"TRAIN_DF.csv\")"
   ]
  }
 ],
 "metadata": {
  "kernelspec": {
   "display_name": "Python 3 (ipykernel)",
   "language": "python",
   "name": "python3"
  },
  "language_info": {
   "codemirror_mode": {
    "name": "ipython",
    "version": 3
   },
   "file_extension": ".py",
   "mimetype": "text/x-python",
   "name": "python",
   "nbconvert_exporter": "python",
   "pygments_lexer": "ipython3",
   "version": "3.12.7"
  }
 },
 "nbformat": 4,
 "nbformat_minor": 5
}
