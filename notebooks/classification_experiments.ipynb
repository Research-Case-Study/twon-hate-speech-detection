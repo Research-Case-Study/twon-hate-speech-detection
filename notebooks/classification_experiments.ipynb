{
 "cells": [
  {
   "cell_type": "code",
   "execution_count": 1,
   "id": "935a778c-96ec-4923-ab9e-ae712eb1750f",
   "metadata": {},
   "outputs": [],
   "source": [
    "# import libraries\n",
    "from sentence_transformers import SentenceTransformer\n",
    "from collections import Counter\n",
    "import requests\n",
    "import json\n",
    "import os\n",
    "from tqdm import tqdm\n",
    "import pandas as pd\n",
    "import json\n",
    "\n",
    "# Change to the parent directory of the notebook\n",
    "os.chdir('..')"
   ]
  },
  {
   "cell_type": "code",
   "execution_count": null,
   "id": "de3f6cda-72c7-40c4-9d94-a617f2694df5",
   "metadata": {},
   "outputs": [],
   "source": [
    "# EMBEDDINGS_MODEL = SentenceTransformer(\"dunzhang/stella_en_1.5B_v5\", trust_remote_code=True).cuda()\n",
    "# df = pd.read_csv(\"Data/dataset.csv\", index_col=0)\n",
    "# print(\"generating embeddings...\")\n",
    "# # Generate embeddings for each row in the 'tweet_text' column\n",
    "# tqdm.pandas()\n",
    "\n",
    "# # Generate embeddings with progress tracking\n",
    "# df['X_train'] = df['tweet_text'].progress_apply(lambda text: EMBEDDINGS_MODEL.encode(text))\n"
   ]
  },
  {
   "cell_type": "code",
   "execution_count": 2,
   "id": "7c981bfd-f43d-48d5-98a6-f52d5065df26",
   "metadata": {},
   "outputs": [
    {
     "name": "stdout",
     "output_type": "stream",
     "text": [
      "<class 'pandas.core.frame.DataFrame'>\n",
      "Index: 20148 entries, 0 to 20147\n",
      "Data columns (total 13 columns):\n",
      " #   Column              Non-Null Count  Dtype \n",
      "---  ------              --------------  ----- \n",
      " 0   post_id             20148 non-null  object\n",
      " 1   tweet_text          20148 non-null  object\n",
      " 2   key_features        20148 non-null  object\n",
      " 3   target              16230 non-null  object\n",
      " 4   label               20148 non-null  object\n",
      " 5   annotator_1_label   20148 non-null  object\n",
      " 6   annotator_1_target  13021 non-null  object\n",
      " 7   annotator_2_label   20148 non-null  object\n",
      " 8   annotator_2_target  13151 non-null  object\n",
      " 9   annotator_3_label   20148 non-null  object\n",
      " 10  annotator_3_target  13080 non-null  object\n",
      " 11  X_train             20148 non-null  object\n",
      " 12  label_encoded       20148 non-null  int64 \n",
      "dtypes: int64(1), object(12)\n",
      "memory usage: 2.2+ MB\n"
     ]
    }
   ],
   "source": [
    "import pickle\n",
    "\n",
    "# Load using pickle\n",
    "with open(\"Data/dataset_mit_embeddings.pkl\", \"rb\") as f:\n",
    "    df = pickle.load(f)\n",
    "\n",
    "\n",
    "df.info()"
   ]
  },
  {
   "cell_type": "code",
   "execution_count": 3,
   "id": "e4c31776-7f9b-4554-98e1-c32477f44ba5",
   "metadata": {},
   "outputs": [],
   "source": [
    "from sklearn.preprocessing import LabelEncoder\n",
    "from sklearn.model_selection import train_test_split\n",
    "\n",
    "label_encoder = LabelEncoder()\n",
    "df['label_encoded'] = label_encoder.fit_transform(df['label'])\n",
    "\n",
    "# Convert 'X_train' column to a list of embeddings\n",
    "X = df['X_train'].tolist()\n",
    "y = df['label_encoded'].tolist()\n",
    "\n",
    "# Train-test split\n",
    "X_train, X_test, y_train, y_test = train_test_split(X, y, test_size=0.2, random_state=42)\n"
   ]
  },
  {
   "cell_type": "code",
   "execution_count": 4,
   "id": "8c720b50-ffc2-45d6-bcc0-9c97b8d2988c",
   "metadata": {},
   "outputs": [
    {
     "name": "stderr",
     "output_type": "stream",
     "text": [
      "C:\\MachineLearning\\AICU\\recommendation_system\\.venv\\Lib\\site-packages\\xgboost\\core.py:158: UserWarning: [21:50:57] WARNING: C:\\buildkite-agent\\builds\\buildkite-windows-cpu-autoscaling-group-i-0c55ff5f71b100e98-1\\xgboost\\xgboost-ci-windows\\src\\learner.cc:740: \n",
      "Parameters: { \"use_label_encoder\" } are not used.\n",
      "\n",
      "  warnings.warn(smsg, UserWarning)\n"
     ]
    },
    {
     "name": "stdout",
     "output_type": "stream",
     "text": [
      "Accuracy: 0.6278\n",
      "\n",
      "Classification Report:\n",
      "              precision    recall  f1-score   support\n",
      "\n",
      "  hatespeech       0.69      0.68      0.68      1285\n",
      "      normal       0.64      0.75      0.69      1610\n",
      "   offensive       0.51      0.40      0.45      1135\n",
      "\n",
      "    accuracy                           0.63      4030\n",
      "   macro avg       0.61      0.61      0.61      4030\n",
      "weighted avg       0.62      0.63      0.62      4030\n",
      "\n"
     ]
    }
   ],
   "source": [
    "import xgboost as xgb\n",
    "from sklearn.metrics import accuracy_score, classification_report\n",
    "\n",
    "# Initialize the XGBoost classifier\n",
    "xgb_model = xgb.XGBClassifier(\n",
    "    objective='multi:softmax',  # Use 'multi:softmax' for multi-class classification\n",
    "    num_class=len(label_encoder.classes_),  # Number of classes\n",
    "    eval_metric='mlogloss',  # Multi-class log loss\n",
    "    use_label_encoder=False  # Avoid warnings about label encoding\n",
    ")\n",
    "\n",
    "# Convert data to proper format if needed\n",
    "# X_train and X_test are lists of lists (embeddings), so they're ready for XGBoost.\n",
    "\n",
    "# Train the XGBoost model\n",
    "xgb_model.fit(X_train, y_train)\n",
    "\n",
    "# Make predictions\n",
    "y_pred = xgb_model.predict(X_test)\n",
    "\n",
    "# Evaluate the model\n",
    "accuracy = accuracy_score(y_test, y_pred)\n",
    "print(f\"Accuracy: {accuracy:.4f}\")\n",
    "\n",
    "# Detailed classification report\n",
    "print(\"\\nClassification Report:\")\n",
    "print(classification_report(y_test, y_pred, target_names=label_encoder.classes_))\n"
   ]
  },
  {
   "cell_type": "code",
   "execution_count": null,
   "id": "1cb8eccd-b7cf-481d-8018-8cabd4ea7a09",
   "metadata": {},
   "outputs": [],
   "source": []
  }
 ],
 "metadata": {
  "kernelspec": {
   "display_name": "Python 3 (ipykernel)",
   "language": "python",
   "name": "python3"
  },
  "language_info": {
   "codemirror_mode": {
    "name": "ipython",
    "version": 3
   },
   "file_extension": ".py",
   "mimetype": "text/x-python",
   "name": "python",
   "nbconvert_exporter": "python",
   "pygments_lexer": "ipython3",
   "version": "3.12.7"
  }
 },
 "nbformat": 4,
 "nbformat_minor": 5
}
